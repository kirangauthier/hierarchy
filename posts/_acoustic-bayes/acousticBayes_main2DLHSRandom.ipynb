{
 "cells": [
  {
   "cell_type": "code",
   "execution_count": 2,
   "metadata": {},
   "outputs": [],
   "source": [
    "import numpy as np \n",
    "import matplotlib.pyplot as plt \n",
    "from doe_lhs import lhs \n",
    "def unnormalize(val, maxVal, minVal): \n",
    "    return val * (maxVal - minVal) + minVal  "
   ]
  },
  {
   "cell_type": "code",
   "execution_count": 3,
   "metadata": {},
   "outputs": [
    {
     "data": {
      "image/png": "[encoded data removed]",
      "text/plain": [
       "<Figure size 432x288 with 1 Axes>"
      ]
     },
     "metadata": {
      "needs_background": "light"
     },
     "output_type": "display_data"
    },
    {
     "data": {
      "image/png": "[encoded data removed]",
      "text/plain": [
       "<Figure size 432x288 with 1 Axes>"
      ]
     },
     "metadata": {
      "needs_background": "light"
     },
     "output_type": "display_data"
    }
   ],
   "source": [
    "tmp = lhs(2, 501, criterion='m', seeded=233) \n",
    "\n",
    "plot_range = np.linspace(0.8, 1.1, 101)\n",
    "frame_range = np.logspace(np.log10(1.), np.log10(100.), 21) \n",
    "\n",
    "freq_samp = unnormalize(tmp[:, 0], min(plot_range), max(plot_range)) \n",
    "frame_samp = 10 ** unnormalize(tmp[:, 1], np.log10(min(frame_range)), np.log10(max(frame_range))) \n",
    "\n",
    "plt.hist(freq_samp, bins=101, density=True); \n",
    "plt.figure() \n",
    "plt.hist(frame_samp, bins=101, density=True); "
   ]
  },
  {
   "cell_type": "code",
   "execution_count": null,
   "metadata": {
    "scrolled": true
   },
   "outputs": [
    {
     "name": "stdout",
     "output_type": "stream",
     "text": [
      "RUNNING IN SMC MODE\n",
      "RUNNING IN LHS MODE\n",
      "creating folder and subfolders\n",
      "hey im on experiment 0\n",
      "with omega [] and framerate []\n",
      "[] [] []\n"
     ]
    },
    {
     "name": "stderr",
     "output_type": "stream",
     "text": [
      "Sample initial stage: ...\n"
     ]
    },
    {
     "name": "stdout",
     "output_type": "stream",
     "text": [
      "no pre-existing sample, resampling\n"
     ]
    },
    {
     "name": "stderr",
     "output_type": "stream",
     "text": [
      "Stage:   0 Beta: 1.000 Steps:  25 Acce: 1.000\n",
      "  1%|          | 1/101 [00:00<00:17,  5.87it/s]"
     ]
    },
    {
     "name": "stdout",
     "output_type": "stream",
     "text": [
      "the posterior means are [1.12823475 1.12984966 0.01140675 0.34309781],\n",
      "with sd [0.58740837 0.59917354 0.00593336 0.18377026],\n",
      "and the true values are [1, 1, 0.01, 0.3].\n"
     ]
    },
    {
     "name": "stderr",
     "output_type": "stream",
     "text": [
      "100%|██████████| 101/101 [00:18<00:00,  5.52it/s]\n"
     ]
    },
    {
     "name": "stdout",
     "output_type": "stream",
     "text": [
      "18.310322700010147 time to design omega (s) 0.1812903237624767 s/it.\n"
     ]
    },
    {
     "name": "stderr",
     "output_type": "stream",
     "text": [
      "\r",
      "  0%|          | 0/21 [00:00<?, ?it/s]"
     ]
    },
    {
     "name": "stdout",
     "output_type": "stream",
     "text": [
      ". . . . . . "
     ]
    },
    {
     "name": "stderr",
     "output_type": "stream",
     "text": [
      "\r",
      "  5%|▍         | 1/21 [00:02<00:58,  2.93s/it]"
     ]
    },
    {
     "name": "stdout",
     "output_type": "stream",
     "text": [
      ". "
     ]
    },
    {
     "name": "stderr",
     "output_type": "stream",
     "text": [
      "\r",
      " 10%|▉         | 2/21 [00:05<00:53,  2.79s/it]"
     ]
    },
    {
     "name": "stdout",
     "output_type": "stream",
     "text": [
      ". . . . . . . . . "
     ]
    },
    {
     "name": "stderr",
     "output_type": "stream",
     "text": [
      " 19%|█▉        | 4/21 [00:10<00:43,  2.57s/it]"
     ]
    },
    {
     "name": "stdout",
     "output_type": "stream",
     "text": [
      ". "
     ]
    },
    {
     "name": "stderr",
     "output_type": "stream",
     "text": [
      " 29%|██▊       | 6/21 [00:14<00:35,  2.38s/it]"
     ]
    },
    {
     "name": "stdout",
     "output_type": "stream",
     "text": [
      ". . . . "
     ]
    },
    {
     "name": "stderr",
     "output_type": "stream",
     "text": [
      "\r",
      " 33%|███▎      | 7/21 [00:16<00:32,  2.36s/it]"
     ]
    },
    {
     "name": "stdout",
     "output_type": "stream",
     "text": [
      ". . . . "
     ]
    },
    {
     "name": "stderr",
     "output_type": "stream",
     "text": [
      " 43%|████▎     | 9/21 [00:20<00:26,  2.17s/it]"
     ]
    },
    {
     "name": "stdout",
     "output_type": "stream",
     "text": [
      ". . . . . . . . . "
     ]
    },
    {
     "name": "stderr",
     "output_type": "stream",
     "text": [
      "\r",
      " 48%|████▊     | 10/21 [00:22<00:23,  2.14s/it]"
     ]
    },
    {
     "name": "stdout",
     "output_type": "stream",
     "text": [
      ". . . "
     ]
    },
    {
     "name": "stderr",
     "output_type": "stream",
     "text": [
      "\r",
      " 52%|█████▏    | 11/21 [00:24<00:20,  2.09s/it]"
     ]
    },
    {
     "name": "stdout",
     "output_type": "stream",
     "text": [
      ". "
     ]
    },
    {
     "name": "stderr",
     "output_type": "stream",
     "text": [
      "\r",
      " 57%|█████▋    | 12/21 [00:27<00:19,  2.12s/it]"
     ]
    },
    {
     "name": "stdout",
     "output_type": "stream",
     "text": [
      ". . "
     ]
    },
    {
     "name": "stderr",
     "output_type": "stream",
     "text": [
      "\r",
      " 62%|██████▏   | 13/21 [00:29<00:18,  2.26s/it]"
     ]
    },
    {
     "name": "stdout",
     "output_type": "stream",
     "text": [
      ". "
     ]
    },
    {
     "name": "stderr",
     "output_type": "stream",
     "text": [
      "\r",
      " 67%|██████▋   | 14/21 [00:31<00:14,  2.14s/it]"
     ]
    },
    {
     "name": "stdout",
     "output_type": "stream",
     "text": [
      ". . . "
     ]
    },
    {
     "name": "stderr",
     "output_type": "stream",
     "text": [
      "\r",
      " 71%|███████▏  | 15/21 [00:33<00:12,  2.04s/it]"
     ]
    },
    {
     "name": "stdout",
     "output_type": "stream",
     "text": [
      ". . . . . . . . . . . . . . . . . . . . . . . "
     ]
    },
    {
     "name": "stderr",
     "output_type": "stream",
     "text": [
      "\r",
      " 76%|███████▌  | 16/21 [00:35<00:09,  1.96s/it]"
     ]
    },
    {
     "name": "stdout",
     "output_type": "stream",
     "text": [
      ". . . . . . . . "
     ]
    },
    {
     "name": "stderr",
     "output_type": "stream",
     "text": [
      "\r",
      " 81%|████████  | 17/21 [00:36<00:07,  1.87s/it]"
     ]
    },
    {
     "name": "stdout",
     "output_type": "stream",
     "text": [
      ". . . . . . "
     ]
    },
    {
     "name": "stderr",
     "output_type": "stream",
     "text": [
      "\r",
      " 86%|████████▌ | 18/21 [00:38<00:05,  1.82s/it]"
     ]
    },
    {
     "name": "stdout",
     "output_type": "stream",
     "text": [
      ". . . . "
     ]
    },
    {
     "name": "stderr",
     "output_type": "stream",
     "text": [
      "\r",
      " 90%|█████████ | 19/21 [00:40<00:03,  1.77s/it]"
     ]
    },
    {
     "name": "stdout",
     "output_type": "stream",
     "text": [
      ". . . . . . "
     ]
    },
    {
     "name": "stderr",
     "output_type": "stream",
     "text": [
      "\r",
      " 95%|█████████▌| 20/21 [00:41<00:01,  1.73s/it]"
     ]
    },
    {
     "name": "stdout",
     "output_type": "stream",
     "text": [
      ". . . . . . . . . "
     ]
    },
    {
     "name": "stderr",
     "output_type": "stream",
     "text": [
      "100%|██████████| 21/21 [00:43<00:00,  2.07s/it]\n"
     ]
    },
    {
     "name": "stdout",
     "output_type": "stream",
     "text": [
      "43.3680663999985 time to design voltage (s) 2.0651460190475475 s/it.\n",
      ". . hey im on experiment 1\n",
      "with omega [0.99084536] and framerate [2.67414808]\n"
     ]
    },
    {
     "name": "stderr",
     "output_type": "stream",
     "text": [
      "Sample initial stage: ...\n"
     ]
    },
    {
     "name": "stdout",
     "output_type": "stream",
     "text": [
      "no pre-existing sample, resampling\n"
     ]
    },
    {
     "name": "stderr",
     "output_type": "stream",
     "text": [
      "Stage:   0 Beta: 0.002 Steps:  25 Acce: 1.000\n",
      "Stage:   1 Beta: 0.008 Steps:  25 Acce: 0.325\n",
      "Stage:   2 Beta: 0.038 Steps:  11 Acce: 0.214\n",
      "Stage:   3 Beta: 0.210 Steps:  19 Acce: 0.217\n",
      "Stage:   4 Beta: 0.634 Steps:  18 Acce: 0.155\n",
      "Stage:   5 Beta: 1.000 Steps:  25 Acce: 0.087\n",
      "  0%|          | 0/101 [00:00<?, ?it/s]"
     ]
    },
    {
     "name": "stdout",
     "output_type": "stream",
     "text": [
      "the posterior means are [1.19224879 0.9907115  0.01449944 0.19820245],\n",
      "with sd [0.67453669 0.02434239 0.00784371 0.07772108],\n",
      "and the true values are [1, 1, 0.01, 0.3].\n"
     ]
    },
    {
     "name": "stderr",
     "output_type": "stream",
     "text": [
      "100%|██████████| 101/101 [00:19<00:00,  5.11it/s]\n"
     ]
    },
    {
     "name": "stdout",
     "output_type": "stream",
     "text": [
      "19.758356800011825 time to design omega (s) 0.19562729504962204 s/it.\n"
     ]
    },
    {
     "name": "stderr",
     "output_type": "stream",
     "text": [
      "\r",
      "  0%|          | 0/21 [00:00<?, ?it/s]"
     ]
    },
    {
     "name": "stdout",
     "output_type": "stream",
     "text": [
      ". "
     ]
    },
    {
     "name": "stderr",
     "output_type": "stream",
     "text": [
      " 43%|████▎     | 9/21 [00:35<00:45,  3.80s/it]"
     ]
    },
    {
     "name": "stdout",
     "output_type": "stream",
     "text": [
      ". "
     ]
    },
    {
     "name": "stderr",
     "output_type": "stream",
     "text": [
      " 67%|██████▋   | 14/21 [00:52<00:24,  3.47s/it]"
     ]
    },
    {
     "name": "stdout",
     "output_type": "stream",
     "text": [
      ". "
     ]
    },
    {
     "name": "stderr",
     "output_type": "stream",
     "text": [
      "\r",
      " 71%|███████▏  | 15/21 [00:55<00:20,  3.40s/it]"
     ]
    },
    {
     "name": "stdout",
     "output_type": "stream",
     "text": [
      ". "
     ]
    },
    {
     "name": "stderr",
     "output_type": "stream",
     "text": [
      "\r",
      " 76%|███████▌  | 16/21 [00:58<00:16,  3.36s/it]"
     ]
    },
    {
     "name": "stdout",
     "output_type": "stream",
     "text": [
      ". . . . "
     ]
    },
    {
     "name": "stderr",
     "output_type": "stream",
     "text": [
      "\r",
      " 81%|████████  | 17/21 [01:01<00:13,  3.29s/it]"
     ]
    },
    {
     "name": "stdout",
     "output_type": "stream",
     "text": [
      ". . . . . . . . . . . . . . . . . . . . . . . . . . . . . . . . "
     ]
    },
    {
     "name": "stderr",
     "output_type": "stream",
     "text": [
      "\r",
      " 86%|████████▌ | 18/21 [01:04<00:09,  3.12s/it]"
     ]
    },
    {
     "name": "stdout",
     "output_type": "stream",
     "text": [
      ". . . . . . . . . . . . . . . . . . . . . . . . . . . . . . . "
     ]
    },
    {
     "name": "stderr",
     "output_type": "stream",
     "text": [
      "\r",
      " 90%|█████████ | 19/21 [01:07<00:05,  2.96s/it]"
     ]
    },
    {
     "name": "stdout",
     "output_type": "stream",
     "text": [
      ". . . . . . . . . . . . . . . . . . . . . . . . . . "
     ]
    },
    {
     "name": "stderr",
     "output_type": "stream",
     "text": [
      "\r",
      " 95%|█████████▌| 20/21 [01:09<00:02,  2.87s/it]"
     ]
    },
    {
     "name": "stdout",
     "output_type": "stream",
     "text": [
      ". . . . . . . . . . . . . . . . . . . . "
     ]
    },
    {
     "name": "stderr",
     "output_type": "stream",
     "text": [
      "100%|██████████| 21/21 [01:12<00:00,  3.45s/it]"
     ]
    },
    {
     "name": "stdout",
     "output_type": "stream",
     "text": [
      "72.42879710000125 time to design voltage (s) 3.4489903380952973 s/it.\n"
     ]
    },
    {
     "name": "stderr",
     "output_type": "stream",
     "text": [
      "\n"
     ]
    },
    {
     "name": "stdout",
     "output_type": "stream",
     "text": [
      "hey im on experiment 2\n",
      "with omega [0.99084536 0.93650782] and framerate [ 2.67414808 15.70063686]\n"
     ]
    },
    {
     "name": "stderr",
     "output_type": "stream",
     "text": [
      "Sample initial stage: ...\n"
     ]
    },
    {
     "name": "stdout",
     "output_type": "stream",
     "text": [
      "no pre-existing sample, resampling\n"
     ]
    },
    {
     "name": "stderr",
     "output_type": "stream",
     "text": [
      "Stage:   0 Beta: 0.001 Steps:  25 Acce: 1.000\n",
      "Stage:   1 Beta: 0.005 Steps:  25 Acce: 0.330\n",
      "Stage:   2 Beta: 0.022 Steps:  11 Acce: 0.213\n",
      "Stage:   3 Beta: 0.097 Steps:  19 Acce: 0.179\n",
      "Stage:   4 Beta: 0.319 Steps:  23 Acce: 0.264\n",
      "Stage:   5 Beta: 0.841 Steps:  15 Acce: 0.212\n",
      "Stage:   6 Beta: 1.000 Steps:  19 Acce: 0.146\n"
     ]
    }
   ],
   "source": [
    "%load_ext autoreload\n",
    "%autoreload 2 \n",
    "%config InlineBackend.figure_format = 'retina' \n",
    "\n",
    "import numpy as np\n",
    "import acousticBayesv2 as ab\n",
    "import matplotlib.pyplot as plt\n",
    "import pymc3 as pm\n",
    "from pymc3 import SamplingError\n",
    "import time\n",
    "import os\n",
    "import uuid\n",
    "from pymc3.variational.callbacks import CheckParametersConvergence\n",
    "from tqdm import tqdm\n",
    "import gc \n",
    "ar = np.array\n",
    "\n",
    "from doe_lhs import lhs \n",
    "\n",
    "def unnormalize(val, maxVal, minVal): \n",
    "    return val * (maxVal - minVal) + minVal  \n",
    "\n",
    "import matplotlib\n",
    "matplotlib.use('Agg')\n",
    "\n",
    "repeats = 10;\n",
    "\n",
    "if __name__ == \"__main__\":\n",
    "    for repeat in range(repeats):\n",
    "        # Designs\n",
    "        design = {}\n",
    "        design['omega'] = np.array([]) #,1.0,1.01,1.02,0.96])\n",
    "        design['voltage'] = np.array([]) #,1,1,1,1])\n",
    "        design['framerate'] = np.array([]) #,1,1,1,1])\n",
    "        design['Ne'] = design['omega'].shape[0]\n",
    "        design['Np'] = 8\n",
    "        #############################################################\n",
    "        ### CONSIDER DROPPING THIS FOR INCREASING INFORMATION CONTENT\n",
    "        #############################################################\n",
    "        design['Nt'] = 32\n",
    "\n",
    "        # Parameters\n",
    "        param = {}\n",
    "        param['alpha'] = 1\n",
    "        param['beta'] = 1\n",
    "        param['gamma'] = 0.01\n",
    "        param['sigma'] = 0.3 # 1.0\n",
    "        param['sigma_a'] = 1\n",
    "        param['sigma_b'] = 1\n",
    "        param['s'] = 0.01\n",
    "\n",
    "        seed = np.random.randint(1, 9999) # 2343\n",
    "        # np.random.seed(seed)\n",
    "        pm.set_tt_rng(seed)\n",
    "\n",
    "        # Prior hyper parameters\n",
    "        param['mu_alpha'] = 0\n",
    "        param['mu_beta'] = 0\n",
    "        param['mu_gamma'] = np.log(param['gamma'])\n",
    "        param['mu_sigma'] = np.log(param['sigma'])\n",
    "\n",
    "        param['sigma_alpha'] = 0.5\n",
    "        param['sigma_beta'] = 0.5\n",
    "        param['sigma_gamma'] = 0.5\n",
    "        param['sigma_sigma'] = 0.5\n",
    "\n",
    "        lines_ = [('alpha', {}, [param['alpha']]),\n",
    "                  ('beta', {}, [param['beta']]),\n",
    "                  ('gamma', {}, [param['gamma']]),\n",
    "                  ('sigma', {}, [param['sigma']])]\n",
    "\n",
    "        SMC = True; VI = False; ## inference choices \n",
    "        LHS = True; random = False ## design choices \n",
    "        try:\n",
    "            assert (SMC + VI) <= 1\n",
    "        except AssertionError as e:\n",
    "            e.args += ('Please choose an inference engine to run on.', '')\n",
    "            raise\n",
    "\n",
    "        if VI:\n",
    "            print('RUNNING IN VI MODE')\n",
    "        elif SMC:\n",
    "            print('RUNNING IN SMC MODE') \n",
    "        if LHS: \n",
    "            print('RUNNING IN LHS MODE')\n",
    "        save = True;\n",
    "        progressbar = False\n",
    "\n",
    "        postSize = 1500\n",
    "\n",
    "        # plot_range = np.linspace(0.9, 1.1, 201)\n",
    "        plot_range = np.linspace(0.8, 1.1, 101)\n",
    "        frame_range = np.logspace(np.log10(1.), np.log10(100.), 21)  \n",
    "        if LHS: \n",
    "            tmp = lhs(2, 11, criterion='m', seeded=seed) \n",
    "        \n",
    "            freq_samp = unnormalize(tmp[:, 0], min(plot_range), max(plot_range)) \n",
    "            frame_samp = 10 ** unnormalize(tmp[:, 1], np.log10(min(frame_range)), np.log10(max(frame_range))) \n",
    "        \n",
    "        elif random: \n",
    "            tmp = np.random.rand(11,2) \n",
    "            \n",
    "            freq_samp = unnormalize(tmp[:, 0], min(plot_range), max(plot_range)) \n",
    "            frame_samp = 10 ** unnormalize(tmp[:, 1], np.log10(min(frame_range)), np.log10(max(frame_range))) \n",
    "            \n",
    "        expI_chosen = [];\n",
    "\n",
    "        timings = []; obs_timings = 0; inf_timings = 0; des_timings = 0; exact_timings = 0;\n",
    "\n",
    "        time_start = time.perf_counter()\n",
    "\n",
    "        parent = 'acousticBayesResults/acousticBayesResults2D'\n",
    "\n",
    "        ab.createFolder(parent)\n",
    "        subfolders = ['traceplots', 'traces', 'marginalizations', 'predictive', 'posterior', 'final']\n",
    "        if VI:\n",
    "            if LHS:\n",
    "                parent += '/LHS_VIseed' + str(seed) + '_' + str(uuid.uuid4().hex)[:5] \n",
    "            elif random: \n",
    "                parent += '/RAND_VIseed' + str(seed) + '_' + str(uuid.uuid4().hex)[:5] \n",
    "            else: \n",
    "                parent += '/VIseed' + str(seed) + '_' + str(uuid.uuid4().hex)[:5] \n",
    "        elif SMC: \n",
    "            if LHS:\n",
    "                parent += '/LHS_SMCseed' + str(seed) + '_' + str(uuid.uuid4().hex)[:5]   \n",
    "            elif random: \n",
    "                parent += '/RAND_SMCseed' + str(seed) + '_' + str(uuid.uuid4().hex)[:5] \n",
    "            else:\n",
    "                parent += '/SMCseed' + str(seed) + '_' + str(uuid.uuid4().hex)[:5]  \n",
    "        else:\n",
    "            parent += '/seed' + str(seed) + '_' + str(uuid.uuid4().hex)[:5]\n",
    "        print('creating folder and subfolders')\n",
    "        for subfolder in subfolders:\n",
    "            ab.createFolder(parent + '/' + subfolder)\n",
    "\n",
    "        ab.plot_posterior_predictive_real(parent, plot_range, param, save=True)\n",
    "        plt.close()\n",
    "\n",
    "        for iexp in range(0, 11):\n",
    "            print('hey im on experiment', iexp)\n",
    "            print('with omega', design['omega'], 'and framerate', design['framerate'])\n",
    "            ## if designing the first experiment, draw from priors\n",
    "            if iexp == 0:\n",
    "\n",
    "                ################################################################################################################\n",
    "                # Data generation & marginalization over phi\n",
    "                ################################################################################################################\n",
    "                time_obs1 = time.perf_counter()\n",
    "\n",
    "                y_ijk, t_ik, lambda_ij = ab.generate_data(design, param, seed=seed)\n",
    "\n",
    "                # in the future don't preallocate these arrays, but also keep in mind that\n",
    "                # they must share a common shape\n",
    "                Ne, Np, Nt = y_ijk.shape\n",
    "                log_c_ij = np.zeros((Ne, Np))\n",
    "                mu_ij = np.zeros((Ne, Np))\n",
    "                sig_ij = np.zeros((Ne, Np))\n",
    "                temp = [];\n",
    "                for i in range(Ne):\n",
    "                    for j in range(Np):\n",
    "                        log_c_ij[i, j], mu_ij[i, j], sig_ij[i, j] = \\\n",
    "                            ab.generate_stats_legacy(y_ijk[i, j], t_ik[i, :], param, framerate=design['framerate'][i])\n",
    "                        if np.isnan(log_c_ij[i,j]) or np.isnan(mu_ij[i,j]) or np.isnan(sig_ij[i,j]): \n",
    "                            log_c_ij[i, j], mu_ij[i, j], sig_ij[i, j] = \\\n",
    "                                ab.generate_stats_legacy(y_ijk[i, j], t_ik[i, :], param, \n",
    "                                                         framerate=design['framerate'][i], TINY=1e-1)\n",
    "                        if np.sum(sig_ij, axis=(0,1)): \n",
    "                            loc_Ne, loc_Np = np.where(np.isnan(sig_ij) == True) \n",
    "                            for (i, j) in zip(loc_Ne, loc_Np): \n",
    "                                log_c_ij[i, j] = np.nanmean(log_c_ij[i, :]) \n",
    "                                mu_ij[i, j] = np.nanmean(mu_ij[i, :]) \n",
    "                                sig_ij[i, j] = np.nanmean(sig_ij[i, :])\n",
    "\n",
    "                print(np.log(lambda_ij), mu_ij, sig_ij)\n",
    "\n",
    "                if np.sum(np.isnan(log_c_ij), axis=(0, 1)) or np.sum(np.isnan(mu_ij), axis=(0, 1)) \\\n",
    "                        or np.sum(np.isnan(sig_ij), axis=(0, 1)):\n",
    "                    print('watch out for NaN values', np.where(np.isnan(log_c_ij)))\n",
    "\n",
    "                # print(log_c_ij, mu_ij, sig_ij)\n",
    "\n",
    "                time_obs2 = time.perf_counter()\n",
    "                obs_timings += (time_obs2 - time_obs1)\n",
    "\n",
    "\n",
    "                time_inf1 = time.perf_counter()\n",
    "\n",
    "                if VI:\n",
    "                    inf_model = ab.build_model_fast_VI(log_c_ij, mu_ij, sig_ij, t_ik, design, param)\n",
    "                elif SMC:\n",
    "                    inf_model = ab.build_model_fast_SMC(log_c_ij, mu_ij, sig_ij, t_ik, design, param)\n",
    "                else:\n",
    "                    inf_model = ab.build_model_fast(log_c_ij, mu_ij, sig_ij, t_ik, design, param)\n",
    "\n",
    "                ## zero-dimensional arrays, drawing from priors\n",
    "                # ab.plot_marginalization_results(iexp, parent, Ne, lambda_ij, mu_ij, sig_ij)\n",
    "                # plt.close()\n",
    "\n",
    "                ################################################################################################################\n",
    "                # MCMC Inference\n",
    "                ################################################################################################################\n",
    "\n",
    "                n_sample = 2000\n",
    "\n",
    "                query_trace = parent + '/traces/omega_' + str(design['omega'])[1:-1] + '_.trace'\n",
    "                if not os.path.exists(query_trace):\n",
    "                    print('no pre-existing sample, resampling')\n",
    "                    if VI:\n",
    "                        mean_field = pm.fit(method='fullrank_advi', callbacks=[CheckParametersConvergence()],\n",
    "                                            progressbar=progressbar, model=inf_model, random_seed=seed)\n",
    "\n",
    "                        plt.plot(mean_field.hist)\n",
    "                        plt.show()\n",
    "\n",
    "                        inf_trace = mean_field.sample(2 * n_sample)\n",
    "\n",
    "                    elif SMC:\n",
    "                        ## for 3.8\n",
    "                        inf_trace = pm.sample_smc(draws=20000, cores=1, tune_steps=True,\n",
    "                                                  progressbar=False, model=inf_model, random_seed=seed)\n",
    "                        ## for 3.7 and below\n",
    "                        # inf_trace = pm.sample(draws=50000, chains=50000, step=pm.SMC(), cores=1, model=inf_model,\n",
    "                        #                       tune_steps=True, progressbar=False, random_seed=seed)\n",
    "\n",
    "                    else:\n",
    "                        try:\n",
    "                            inf_trace = pm.sample(n_sample, tune=n_sample, chains=6, cores=1,\n",
    "                                                  random_seed=seed, progressbar=progressbar, model=inf_model)\n",
    "                        except SamplingError:\n",
    "                            inf_trace = pm.sample(n_sample, tune=n_sample, chains=6, cores=1,\n",
    "                                                  progressbar=progressbar, model=inf_model)\n",
    "\n",
    "                    pm.save_trace(inf_trace, directory=query_trace)\n",
    "                else:\n",
    "                    # pass\n",
    "                    inf_trace = pm.load_trace(query_trace, model=inf_model)\n",
    "\n",
    "                time_inf2 = time.perf_counter()\n",
    "                inf_timings += (time_inf2 - time_inf1)\n",
    "\n",
    "                trace_txt = np.array([inf_trace['alpha'], inf_trace['beta'], inf_trace['gamma'], inf_trace['sigma']]).T\n",
    "                np.savetxt(parent + '/traces/theta_omega_' + str(design['omega'])[1:-1] + '_.tsv', trace_txt,\n",
    "                           delimiter=\"\\t\")\n",
    "                if SMC or VI:\n",
    "                    logp_ = []\n",
    "                    for idx in range(len(inf_trace['alpha'])):\n",
    "                        logp_.append(ab.manual_logp([inf_trace['alpha'][idx], inf_trace['beta'][idx],\n",
    "                                                     inf_trace['gamma'][idx], inf_trace['sigma'][idx]],\n",
    "                                                    [design, log_c_ij, mu_ij, sig_ij]))\n",
    "                    logp_txt = ar(logp_)\n",
    "                else:\n",
    "                    logp_txt = inf_trace['logp']\n",
    "                np.savetxt(parent + '/traces/logp_omega_' + str(design['omega'])[1:-1] + '_.tsv', logp_txt,\n",
    "                           delimiter=\"\\t\")\n",
    "\n",
    "                if SMC or VI:\n",
    "                    pm.traceplot(inf_trace, var_names=['alpha', 'beta', 'gamma', 'sigma'], lines=lines_);\n",
    "                else:\n",
    "                    pm.traceplot(inf_trace, var_names=['alpha', 'beta', 'gamma', 'sigma', 'logp'], lines=lines_);\n",
    "                if save: plt.savefig(parent + '/traceplots/traceplot_' + str(iexp) + '.png', bbox_inches='tight')\n",
    "                plt.close()\n",
    "                # plt.show()\n",
    "\n",
    "                ################################################################################################################\n",
    "                # Generate posterior samples (500 in this example, downsample bfo 8)\n",
    "                ################################################################################################################\n",
    "\n",
    "                thetaPost = np.vstack((inf_trace['alpha'], inf_trace['beta'], inf_trace['gamma'], inf_trace['sigma'])).T\n",
    "                split = int(thetaPost.shape[0] / postSize)\n",
    "                thetaPost = thetaPost[::split]\n",
    "\n",
    "                ab.plot_posterior_predictive(iexp, parent, plot_range, mu_ij, lambda_ij, sig_ij, thetaPost, design, param, save=save)\n",
    "                plt.close()\n",
    "\n",
    "                ab.plot_prior_posterior_multitrace(iexp, parent, thetaPost, param, save=save)\n",
    "                plt.close()\n",
    "\n",
    "                print('the posterior means are {0},\\nwith sd {1},\\nand the true values are {2}.'.format(thetaPost.mean(0),\n",
    "                                                                                                        thetaPost.std(0),\n",
    "                                                                                                        [param['alpha'],\n",
    "                                                                                                         param['beta'],\n",
    "                                                                                                         param['gamma'],\n",
    "                                                                                                         param['sigma']]))\n",
    "\n",
    "                ################################################################################################################\n",
    "                # Design of experiment\n",
    "                ################################################################################################################\n",
    "                time_des1 = time.perf_counter()\n",
    "\n",
    "                time_omg1 = time.perf_counter()\n",
    "                expI_W = []\n",
    "\n",
    "                # Designs for design of next experiment\n",
    "                design_d = {}\n",
    "                voltage_d = np.array([2.])\n",
    "                framerate_d = np.array([1.])\n",
    "                design_d['voltage'] = voltage_d\n",
    "                design_d['framerate'] = framerate_d\n",
    "                design_d['Ne'] = 1\n",
    "                design_d['Np'] = 1  ## do this for 1 particle and many posterior draws\n",
    "                design_d['Nt'] = 32\n",
    "\n",
    "                for omega_idx, omega_val in enumerate(tqdm(plot_range)):\n",
    "                    # Propose a design for the next experiment\n",
    "                    omega_d = np.array([omega_val])\n",
    "\n",
    "                    design_d['omega'] = omega_d\n",
    "\n",
    "                    noiseless, noisy = ab.generate_noisy_noiseless_data_ln_lam(thetaPost, design_d)\n",
    "                    expI_W.append(ab.get_expected_info_norm(noiseless, noisy, thetaPost[:, 3]))\n",
    "\n",
    "                expI_W = ar(expI_W)\n",
    "                time_omg2 = time.perf_counter()\n",
    "                print((time_omg2 - time_omg1), 'time to design omega (s)',\n",
    "                      (time_omg2 - time_omg1) / (plot_range.shape[0] * design_d['Np']), 's/it.')\n",
    "\n",
    "                ab.plot_posterior_predictive_expected_utility(iexp, parent, plot_range, mu_ij, lambda_ij, sig_ij, thetaPost, design,\n",
    "                                                              param, expI_W, save=save)\n",
    "\n",
    "                des_freq_idx = None; best_freq = freq_samp[iexp] \n",
    "                \n",
    "                ## Calculate expected value of LHS sample \n",
    "                omega_d = np.array([best_freq]) \n",
    "                design_d['omega'] = omega_d \n",
    "                noiseless, noisy = ab.generate_noisy_noiseless_data_ln_lam(thetaPost, design_d) \n",
    "                expI_W_LHS = ab.get_expected_info_norm(noiseless, noisy, thetaPost[:,3]) \n",
    "                # best_freq = plot_range[np.where(expI_W == np.amax(expI_W))]\n",
    "\n",
    "                time_frm1 = time.perf_counter()\n",
    "\n",
    "                # Designs for design of next experiment\n",
    "                design_d = {}\n",
    "                omega_d = ar([best_freq])\n",
    "                voltage_d = ar([2.])\n",
    "                design_d['omega'] = omega_d\n",
    "                design_d['voltage'] = voltage_d\n",
    "                design_d['Ne'] = 1\n",
    "                design_d['Np'] = 1  ## do this for 1 particle and many posterior draws\n",
    "                design_d['Nt'] = 32\n",
    "\n",
    "                # Parameters\n",
    "                param_d = {}\n",
    "                param_d['alpha'] = thetaPost[:, 0][::10]\n",
    "                param_d['beta'] = thetaPost[:, 1][::10]\n",
    "                param_d['gamma'] = thetaPost[:, 2][::10]\n",
    "                param_d['sigma'] = thetaPost[:, 3][::10]\n",
    "                param_d['sigma_a'] = param['sigma_a']\n",
    "                param_d['sigma_b'] = param['sigma_b']\n",
    "                param_d['s'] = param['s']\n",
    "\n",
    "                # gc.collect()\n",
    "\n",
    "                expI_F = []\n",
    "\n",
    "                for frame_idx, frame_val in enumerate(tqdm(frame_range)):\n",
    "                    expI_F.append(ab.design_framerate(frame_idx, frame_val, design_d, param_d, param))\n",
    "\n",
    "                # expI_F = ab.design_framerate(frame_range, design_d, param_d, param)\n",
    "\n",
    "                expI_F = ar(expI_F)\n",
    "\n",
    "                time_frm2 = time.perf_counter()\n",
    "                print((time_frm2 - time_frm1), 'time to design voltage (s)',\n",
    "                      (time_frm2 - time_frm1) / (frame_range.shape[0] * design_d['Np']), 's/it.')\n",
    "\n",
    "                time_des2 = time.perf_counter()\n",
    "                des_timings += (time_des2 - time_des1)\n",
    "                des_frm_idx = None; best_frm = frame_samp[iexp] \n",
    "                \n",
    "                ## Calculate expected value of LHS sample \n",
    "                expI_F_LHS = ab.design_framerate(None, best_frm, design_d, param_d, param) \n",
    "\n",
    "                ab.plot_framerate_expected_utility(iexp, parent, frame_range, expI_F, best_freq, best_frm, save=save)\n",
    "                # des_idx = np.argmax(expI);\n",
    "                expI_chosen.append(expI_W_LHS + expI_F_LHS)\n",
    "                design['omega'] = ar([best_freq])\n",
    "                design['voltage'] = np.array([2.])\n",
    "                design['framerate'] = np.array([best_frm])\n",
    "                design['Ne'] = design['omega'].shape[0]\n",
    "\n",
    "            else:\n",
    "                ################################################################################################################\n",
    "                # Data generation & marginalization over phi\n",
    "                ################################################################################################################\n",
    "                time_obs1 = time.perf_counter()\n",
    "\n",
    "\n",
    "                y_ijk, t_ik, lambda_ij = ab.generate_data(design, param, seed=seed)\n",
    "                Ne, Np, Nt = y_ijk.shape\n",
    "                log_c_ij = np.zeros((Ne, Np))\n",
    "                mu_ij = np.zeros((Ne, Np))\n",
    "                sig_ij = np.zeros((Ne, Np))\n",
    "                temp = [];\n",
    "                for i in range(Ne):\n",
    "                    for j in range(Np):\n",
    "                        log_c_ij[i, j], mu_ij[i, j], sig_ij[i, j] = \\\n",
    "                            ab.generate_stats_legacy(y_ijk[i, j], t_ik[i, :], param, framerate=design['framerate'][i])\n",
    "                        if np.isnan(log_c_ij[i,j]) or np.isnan(mu_ij[i,j]) or np.isnan(sig_ij[i,j]): \n",
    "                            log_c_ij[i, j], mu_ij[i, j], sig_ij[i, j] = \\\n",
    "                                ab.generate_stats_legacy(y_ijk[i, j], t_ik[i, :], param, \n",
    "                                                         framerate=design['framerate'][i], TINY=1e-1)\n",
    "                        if np.sum(sig_ij, axis=(0,1)): \n",
    "                            loc_Ne, loc_Np = np.where(np.isnan(sig_ij) == True) \n",
    "                            for (i, j) in zip(loc_Ne, loc_Np): \n",
    "                                log_c_ij[i, j] = np.nanmean(log_c_ij[i, :]) \n",
    "                                mu_ij[i, j] = np.nanmean(mu_ij[i, :]) \n",
    "                                sig_ij[i, j] = np.nanmean(sig_ij[i, :])\n",
    "                            \n",
    "\n",
    "                # print(log_c_ij, mu_ij, sig_ij)\n",
    "\n",
    "                time_obs2 = time.perf_counter()\n",
    "                obs_timings += (time_obs2 - time_obs1)\n",
    "\n",
    "                time_inf1 = time.perf_counter()\n",
    "\n",
    "                if VI:\n",
    "                    inf_model = ab.build_model_fast_VI(log_c_ij, mu_ij, sig_ij, t_ik, design, param)\n",
    "                elif SMC:\n",
    "                    inf_model = ab.build_model_fast_SMC(log_c_ij, mu_ij, sig_ij, t_ik, design, param)\n",
    "                else:\n",
    "                    inf_model = ab.build_model_fast(log_c_ij, mu_ij, sig_ij, t_ik, design, param)\n",
    "\n",
    "                ab.plot_marginalization_results(iexp, parent, Ne, lambda_ij, mu_ij, sig_ij, save=save)\n",
    "                plt.close()\n",
    "\n",
    "                ################################################################################################################\n",
    "                # MCMC Inference\n",
    "                ################################################################################################################\n",
    "\n",
    "                n_sample = 2000\n",
    "\n",
    "                query_trace = parent + '/traces/omega_' + str(design['omega'])[1:-1] + '_.trace'\n",
    "                if not os.path.exists(query_trace):\n",
    "                    print('no pre-existing sample, resampling')\n",
    "                    if VI:\n",
    "                        mean_field = pm.fit(method='fullrank_advi', callbacks=[CheckParametersConvergence()],\n",
    "                                            progressbar=progressbar, model=inf_model, random_seed=seed)\n",
    "\n",
    "                        plt.plot(mean_field.hist)\n",
    "                        plt.show()\n",
    "\n",
    "                        inf_trace = mean_field.sample(2 * n_sample)\n",
    "\n",
    "                    elif SMC:\n",
    "                        ## for 3.8\n",
    "                        inf_trace = pm.sample_smc(draws=20000, cores=1, tune_steps=True,\n",
    "                                                  progressbar=False, model=inf_model, random_seed=seed)\n",
    "                        ## for 3.7 and below\n",
    "                        # inf_trace = pm.sample(draws=100000, chains=100000, step=pm.SMC(), cores=1, model=inf_model,\n",
    "                        #                       tune_steps=True, progressbar=False, random_seed=seed)\n",
    "\n",
    "                    else:\n",
    "                        try:\n",
    "                            inf_trace = pm.sample(n_sample, tune=n_sample, chains=6, cores=1,\n",
    "                                                  random_seed=seed, progressbar=progressbar, model=inf_model)\n",
    "                        except SamplingError:\n",
    "                            inf_trace = pm.sample(n_sample, tune=n_sample, chains=6, cores=1,\n",
    "                                                  progressbar=progressbar, model=inf_model)\n",
    "\n",
    "                    pm.save_trace(inf_trace, directory=query_trace)\n",
    "                else:\n",
    "                    # pass\n",
    "                    inf_trace = pm.load_trace(query_trace, model=inf_model)\n",
    "\n",
    "                time_inf2 = time.perf_counter()\n",
    "                inf_timings += (time_inf2 - time_inf1)\n",
    "\n",
    "                trace_txt = np.array([inf_trace['alpha'], inf_trace['beta'], inf_trace['gamma'], inf_trace['sigma']]).T\n",
    "                np.savetxt(parent + '/traces/theta_omega_' + str(design['omega'])[1:-1] + '_.tsv', trace_txt,\n",
    "                           delimiter=\"\\t\")\n",
    "                if SMC or VI:\n",
    "                    logp_ = []\n",
    "                    for idx in range(len(inf_trace['alpha'])):\n",
    "                        logp_.append(ab.manual_logp([inf_trace['alpha'][idx], inf_trace['beta'][idx],\n",
    "                                                     inf_trace['gamma'][idx], inf_trace['sigma'][idx]],\n",
    "                                                    [design, log_c_ij, mu_ij, sig_ij]))\n",
    "                    logp_txt = ar(logp_)\n",
    "                else:\n",
    "                    logp_txt = inf_trace['logp']\n",
    "                np.savetxt(parent + '/traces/logp_omega_' + str(design['omega'])[1:-1] + '_.tsv', logp_txt,\n",
    "                           delimiter=\"\\t\")\n",
    "\n",
    "                lines_ = [('alpha', {}, [param['alpha']]),\n",
    "                          ('beta', {}, [param['beta']]),\n",
    "                          ('gamma', {}, [param['gamma']]),\n",
    "                          ('sigma', {}, [param['sigma']])]\n",
    "                if SMC or VI:\n",
    "                    pm.traceplot(inf_trace, var_names=['alpha', 'beta', 'gamma', 'sigma'], lines=lines_);\n",
    "                else:\n",
    "                    pm.traceplot(inf_trace, var_names=['alpha', 'beta', 'gamma', 'sigma', 'logp'], lines=lines_);\n",
    "                if save: plt.savefig(parent + '/traceplots/traceplot_' + str(iexp) + '.png', bbox_inches='tight')\n",
    "                plt.close()\n",
    "                # plt.show()\n",
    "\n",
    "                ################################################################################################################\n",
    "                # Generate posterior samples (500 in this example, downsample bfo 8)\n",
    "                ################################################################################################################\n",
    "\n",
    "                thetaPost = np.vstack((inf_trace['alpha'], inf_trace['beta'], inf_trace['gamma'], inf_trace['sigma'])).T\n",
    "                split = int(thetaPost.shape[0] / postSize)\n",
    "                thetaPost = thetaPost[::split]\n",
    "\n",
    "                ab.plot_posterior_predictive(iexp, parent, plot_range, mu_ij, lambda_ij, sig_ij, thetaPost, design, param, save=save)\n",
    "                plt.close()\n",
    "\n",
    "                ab.plot_prior_posterior_multitrace(iexp, parent, thetaPost, param, save=save)\n",
    "                plt.close()\n",
    "\n",
    "                print('the posterior means are {0},\\nwith sd {1},\\nand the true values are {2}.'.format(thetaPost.mean(0),\n",
    "                                                                                                      thetaPost.std(0),\n",
    "                                                                                                      [param['alpha'],\n",
    "                                                                                                       param['beta'],\n",
    "                                                                                                       param['gamma'],\n",
    "                                                                                                       param['sigma']]))\n",
    "\n",
    "                ################################################################################################################\n",
    "                # Design of experiment\n",
    "                ################################################################################################################\n",
    "                time_des1 = time.perf_counter()\n",
    "\n",
    "                time_omg1 = time.perf_counter()\n",
    "                expI_W = []\n",
    "\n",
    "                # Designs for design of next experiment\n",
    "                design_d = {}\n",
    "                voltage_d = np.array([2.])\n",
    "                framerate_d = np.array([1.])\n",
    "                design_d['voltage'] = voltage_d\n",
    "                design_d['framerate'] = framerate_d\n",
    "                design_d['Ne'] = 1\n",
    "                design_d['Np'] = 1  ## do this for 1 particle and many posterior draws\n",
    "                design_d['Nt'] = 32\n",
    "\n",
    "                for omega_idx, omega_val in enumerate(tqdm(plot_range)):\n",
    "                    # Propose a design for the next experiment\n",
    "                    omega_d = np.array([omega_val])\n",
    "\n",
    "                    design_d['omega'] = omega_d\n",
    "\n",
    "                    noiseless, noisy = ab.generate_noisy_noiseless_data_ln_lam(thetaPost, design_d)\n",
    "                    expI_W.append(ab.get_expected_info_norm(noiseless, noisy, thetaPost[:, 3]))\n",
    "\n",
    "                expI_W = ar(expI_W)\n",
    "                time_omg2 = time.perf_counter()\n",
    "                print((time_omg2 - time_omg1), 'time to design omega (s)',\n",
    "                      (time_omg2 - time_omg1) / (plot_range.shape[0] * design_d['Np']), 's/it.')\n",
    "\n",
    "                ab.plot_posterior_predictive_expected_utility(iexp, parent, plot_range, mu_ij, lambda_ij, sig_ij, thetaPost,\n",
    "                                                              design,\n",
    "                                                              param, expI_W, save=save)\n",
    "\n",
    "                des_freq_idx = None; best_freq = freq_samp[iexp] \n",
    "                \n",
    "                ## Calculate expected value of LHS sample \n",
    "                omega_d = np.array([best_freq]) \n",
    "                design_d['omega'] = omega_d \n",
    "                noiseless, noisy = ab.generate_noisy_noiseless_data_ln_lam(thetaPost, design_d) \n",
    "                expI_W_LHS = ab.get_expected_info_norm(noiseless, noisy, thetaPost[:,3]) \n",
    "\n",
    "                time_frm1 = time.perf_counter()\n",
    "                expI_F = []\n",
    "\n",
    "                # Designs for design of next experiment\n",
    "                design_d = {}\n",
    "                omega_d = ar([best_freq])\n",
    "                voltage_d = ar([2.])\n",
    "                design_d['omega'] = omega_d\n",
    "                design_d['voltage'] = voltage_d\n",
    "                design_d['Ne'] = 1\n",
    "                design_d['Np'] = 1  ## do this for 1 particle and many posterior draws\n",
    "                design_d['Nt'] = 32\n",
    "\n",
    "                # Parameters\n",
    "                param_d = {}\n",
    "                param_d['alpha'] = thetaPost[:, 0][::10]\n",
    "                param_d['beta'] = thetaPost[:, 1][::10]\n",
    "                param_d['gamma'] = thetaPost[:, 2][::10]\n",
    "                param_d['sigma'] = thetaPost[:, 3][::10]\n",
    "                param_d['sigma_a'] = param['sigma_a']\n",
    "                param_d['sigma_b'] = param['sigma_b']\n",
    "                param_d['s'] = param['s']\n",
    "\n",
    "                # gc.collect()\n",
    "\n",
    "                expI_F = []\n",
    "\n",
    "                for frame_idx, frame_val in enumerate(tqdm(frame_range)):\n",
    "                    expI_F.append(ab.design_framerate(frame_idx, frame_val, design_d, param_d, param))\n",
    "\n",
    "                # expI_F = ab.design_framerate(frame_range, design_d, param_d, param)\n",
    "\n",
    "                expI_F = ar(expI_F) \n",
    "\n",
    "                time_frm2 = time.perf_counter()\n",
    "                print((time_frm2 - time_frm1), 'time to design voltage (s)',\n",
    "                          (time_frm2 - time_frm1) / (frame_range.shape[0] * design_d['Np']), 's/it.')\n",
    "\n",
    "                time_des2 = time.perf_counter()\n",
    "                des_timings += (time_des2 - time_des1)\n",
    "                des_frm_idx = None;\n",
    "                best_frm = frame_samp[iexp]\n",
    "                \n",
    "                ## Calculate expected value of LHS sample \n",
    "                expI_F_LHS = ab.design_framerate(None, best_frm, design_d, param_d, param) \n",
    "                \n",
    "                ab.plot_framerate_expected_utility(iexp, parent, frame_range, expI_F, best_freq, best_frm, save=save)\n",
    "                # des_idx = np.argmax(expI);\n",
    "\n",
    "                expI_chosen.append(expI_W_LHS + expI_F_LHS)\n",
    "                design['omega'] = np.concatenate((design['omega'], ar([best_freq])))\n",
    "                design['voltage'] = np.concatenate((design['voltage'], ar([2.])))\n",
    "                design['framerate'] = np.concatenate((design['framerate'], ar([best_frm])))\n",
    "                design['Ne'] = design['omega'].shape[0]\n",
    "\n",
    "        np.savetxt(parent+'/final/design_omega.tsv', design['omega'], delimiter=\"\\t\")\n",
    "        np.savetxt(parent+'/final/design_voltage.tsv', design['voltage'], delimiter=\"\\t\")\n",
    "        np.savetxt(parent+'/final/design_framerate.tsv', design['framerate'], delimiter=\"\\t\")\n",
    "        np.savetxt(parent+'/final/expI.tsv', expI_chosen, delimiter=\"\\t\")\n",
    "        np.savetxt(parent+'/final/thetaFinal.tsv', ar([thetaPost.mean(0), thetaPost.std(0)]), delimiter=\"\\t\")\n",
    "\n",
    "        ########################################################################################################################\n",
    "        # Calculate exact info using MCEvidence algorithm\n",
    "        ########################################################################################################################\n",
    "        time_exact1 = time.perf_counter()\n",
    "\n",
    "        allposterior_sorted, alllogp_sorted = ab.sort_posteriors_logp(parent)\n",
    "\n",
    "        exI = [];\n",
    "        if SMC or VI:\n",
    "            exI = ab.get_all_exact_info(exI, allposterior_sorted, alllogp_sorted, param, SMCorVI=True)\n",
    "        else:\n",
    "            exI = ab.get_all_exact_info(exI, allposterior_sorted, alllogp_sorted, param, SMCorVI=False)\n",
    "        np.savetxt(parent + '/final/exI.tsv', exI, delimiter=\"\\t\")\n",
    "\n",
    "        ab.plot_expected_exact_info(parent, exI, expI_chosen, save=save)\n",
    "\n",
    "        time_exact2 = time.perf_counter()\n",
    "        exact_timings += (time_exact2 - time_exact1)\n",
    "\n",
    "        ########################################################################################################################\n",
    "        # Timing results\n",
    "        ########################################################################################################################\n",
    "        time_end = time.perf_counter()\n",
    "        total_time = time_end - time_start\n",
    "        timings.append([total_time, obs_timings, inf_timings, des_timings, exact_timings])\n",
    "        timings = ar(timings)\n",
    "        print(timings)\n",
    "        np.savetxt(parent+'/final/timings.tsv', timings, delimiter=\"\\t\")"
   ]
  },
  {
   "cell_type": "code",
   "execution_count": null,
   "metadata": {},
   "outputs": [],
   "source": [
    "log_c_ij, mu_ij, sig_ij "
   ]
  },
  {
   "cell_type": "code",
   "execution_count": 10,
   "metadata": {},
   "outputs": [
    {
     "data": {
      "text/plain": [
       "[<matplotlib.lines.Line2D at 0x7f1974d34bd0>,\n",
       " <matplotlib.lines.Line2D at 0x7f1974d34ad0>,\n",
       " <matplotlib.lines.Line2D at 0x7f1974d34290>,\n",
       " <matplotlib.lines.Line2D at 0x7f1974d34d90>,\n",
       " <matplotlib.lines.Line2D at 0x7f1974d34890>,\n",
       " <matplotlib.lines.Line2D at 0x7f1974d342d0>,\n",
       " <matplotlib.lines.Line2D at 0x7f195f52c690>,\n",
       " <matplotlib.lines.Line2D at 0x7f19553d0d50>]"
      ]
     },
     "execution_count": 10,
     "metadata": {},
     "output_type": "execute_result"
    },
    {
     "data": {
      "image/png": "[encoded data removed]",
      "text/plain": [
       "<Figure size 432x288 with 1 Axes>"
      ]
     },
     "metadata": {
      "needs_background": "light"
     },
     "output_type": "display_data"
    }
   ],
   "source": [
    "plt.plot(y_ijk[2, :, :].T) "
   ]
  },
  {
   "cell_type": "code",
   "execution_count": 1,
   "metadata": {},
   "outputs": [],
   "source": [
    "from doe_lhs import lhs\n",
    "import numpy as np \n",
    "import matplotlib.pyplot as plt "
   ]
  },
  {
   "cell_type": "code",
   "execution_count": 2,
   "metadata": {},
   "outputs": [],
   "source": [
    "plot_range = np.linspace(0.8, 1.1, 101) \n",
    "frame_range = np.logspace(np.log10(1.), np.log10(100.), 11) "
   ]
  },
  {
   "cell_type": "code",
   "execution_count": 3,
   "metadata": {},
   "outputs": [],
   "source": [
    "design_ranges = np.array([[min(plot_range), max(plot_range)], [np.log10(min(frame_range)), np.log10(max(frame_range))]])  "
   ]
  },
  {
   "cell_type": "code",
   "execution_count": 4,
   "metadata": {},
   "outputs": [],
   "source": []
  },
  {
   "cell_type": "code",
   "execution_count": 5,
   "metadata": {},
   "outputs": [],
   "source": [
    "if None: \n",
    "    print('hey')"
   ]
  },
  {
   "cell_type": "code",
   "execution_count": 6,
   "metadata": {},
   "outputs": [
    {
     "data": {
      "text/plain": [
       "array([[0.51729788, 0.9469626 , 0.76545976, 0.28239584, 0.22104536,\n",
       "        0.68622209, 0.1671392 , 0.39244247, 0.61805235, 0.41193009,\n",
       "        0.00246488],\n",
       "       [0.88403218, 0.88494754, 0.30040969, 0.58958187, 0.97842692,\n",
       "        0.84509382, 0.06507544, 0.29474446, 0.28793444, 0.82246634,\n",
       "        0.62618304]])"
      ]
     },
     "execution_count": 6,
     "metadata": {},
     "output_type": "execute_result"
    }
   ],
   "source": [
    "np.random.seed(23)\n",
    "np.random.rand(2, 11)"
   ]
  },
  {
   "cell_type": "code",
   "execution_count": 7,
   "metadata": {},
   "outputs": [
    {
     "data": {
      "text/plain": [
       "array([[0.78139998, 0.27378346, 0.92918001, 0.90787471, 0.60424262,\n",
       "        0.21613834, 0.5672272 , 0.89694213, 0.73029215, 0.30101952,\n",
       "        0.37334164],\n",
       "       [0.89392354, 0.80067268, 0.6232053 , 0.21649693, 0.41307301,\n",
       "        0.09867334, 0.78573064, 0.75924185, 0.01349236, 0.38664569,\n",
       "        0.76924607]])"
      ]
     },
     "execution_count": 7,
     "metadata": {},
     "output_type": "execute_result"
    }
   ],
   "source": [
    "np.random.seed(None)\n",
    "np.random.rand(2, 11)"
   ]
  },
  {
   "cell_type": "code",
   "execution_count": 12,
   "metadata": {},
   "outputs": [
    {
     "data": {
      "text/plain": [
       "[<matplotlib.lines.Line2D at 0x7f2e627e5490>]"
      ]
     },
     "execution_count": 12,
     "metadata": {},
     "output_type": "execute_result"
    },
    {
     "data": {
      "image/png": "[encoded data removed]",
      "text/plain": [
       "<Figure size 432x288 with 1 Axes>"
      ]
     },
     "metadata": {
      "needs_background": "light"
     },
     "output_type": "display_data"
    }
   ],
   "source": [
    "\n",
    "plt.figure() \n",
    "plt.plot(freq_samp, volt_samp, '.')"
   ]
  },
  {
   "cell_type": "code",
   "execution_count": 27,
   "metadata": {},
   "outputs": [
    {
     "data": {
      "text/plain": [
       "[<matplotlib.lines.Line2D at 0x7fd3f50f7f10>]"
      ]
     },
     "execution_count": 27,
     "metadata": {},
     "output_type": "execute_result"
    },
    {
     "data": {
      "image/png": "[encoded data removed]",
      "text/plain": [
       "<Figure size 432x288 with 1 Axes>"
      ]
     },
     "metadata": {
      "needs_background": "light"
     },
     "output_type": "display_data"
    }
   ],
   "source": [
    "plt.plot(freq_samp, volt_samp, '.')"
   ]
  },
  {
   "cell_type": "code",
   "execution_count": 26,
   "metadata": {},
   "outputs": [
    {
     "data": {
      "image/png": "[encoded data removed]",
      "text/plain": [
       "<Figure size 432x288 with 1 Axes>"
      ]
     },
     "metadata": {
      "needs_background": "light"
     },
     "output_type": "display_data"
    },
    {
     "data": {
      "image/png": "[encoded data removed]",
      "text/plain": [
       "<Figure size 432x288 with 1 Axes>"
      ]
     },
     "metadata": {
      "needs_background": "light"
     },
     "output_type": "display_data"
    }
   ],
   "source": [
    "plt.hist(freq_samp) \n",
    "plt.figure() \n",
    "plt.hist(10 ** volt_samp); "
   ]
  },
  {
   "cell_type": "code",
   "execution_count": 1,
   "metadata": {},
   "outputs": [],
   "source": [
    "from smt.sampling_methods import LHS "
   ]
  },
  {
   "cell_type": "code",
   "execution_count": null,
   "metadata": {},
   "outputs": [],
   "source": [
    "LHS()"
   ]
  }
 ],
 "metadata": {
  "kernelspec": {
   "display_name": "Python 3",
   "language": "python",
   "name": "python3"
  },
  "language_info": {
   "codemirror_mode": {
    "name": "ipython",
    "version": 3
   },
   "file_extension": ".py",
   "mimetype": "text/x-python",
   "name": "python",
   "nbconvert_exporter": "python",
   "pygments_lexer": "ipython3",
   "version": "3.7.4"
  }
 },
 "nbformat": 4,
 "nbformat_minor": 2
}
